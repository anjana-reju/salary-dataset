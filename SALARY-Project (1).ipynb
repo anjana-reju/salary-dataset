{
 "cells": [
  {
   "cell_type": "code",
   "execution_count": 1,
   "metadata": {},
   "outputs": [],
   "source": [
    "import pandas as pd\n",
    "import numpy as np\n",
    "import seaborn as sns\n",
    "import sklearn\n",
    "import matplotlib.pyplot as plt\n",
    "from sklearn.model_selection import train_test_split\n",
    "from sklearn.linear_model import LinearRegression\n",
    "from sklearn.metrics import mean_squared_error,mean_absolute_error"
   ]
  },
  {
   "cell_type": "code",
   "execution_count": 2,
   "metadata": {},
   "outputs": [
    {
     "data": {
      "text/html": [
       "<div>\n",
       "<style scoped>\n",
       "    .dataframe tbody tr th:only-of-type {\n",
       "        vertical-align: middle;\n",
       "    }\n",
       "\n",
       "    .dataframe tbody tr th {\n",
       "        vertical-align: top;\n",
       "    }\n",
       "\n",
       "    .dataframe thead th {\n",
       "        text-align: right;\n",
       "    }\n",
       "</style>\n",
       "<table border=\"1\" class=\"dataframe\">\n",
       "  <thead>\n",
       "    <tr style=\"text-align: right;\">\n",
       "      <th></th>\n",
       "      <th>Emp ID</th>\n",
       "      <th>Name Prefix</th>\n",
       "      <th>First Name</th>\n",
       "      <th>Middle Initial</th>\n",
       "      <th>Last Name</th>\n",
       "      <th>Gender</th>\n",
       "      <th>E Mail</th>\n",
       "      <th>Fathers Name</th>\n",
       "      <th>Mothers Name</th>\n",
       "      <th>Mothers Maiden Name</th>\n",
       "      <th>...</th>\n",
       "      <th>SSN</th>\n",
       "      <th>Phone No</th>\n",
       "      <th>Place Name</th>\n",
       "      <th>County</th>\n",
       "      <th>City</th>\n",
       "      <th>State</th>\n",
       "      <th>Zip</th>\n",
       "      <th>Region</th>\n",
       "      <th>User Name</th>\n",
       "      <th>Password</th>\n",
       "    </tr>\n",
       "  </thead>\n",
       "  <tbody>\n",
       "    <tr>\n",
       "      <th>0</th>\n",
       "      <td>850297</td>\n",
       "      <td>Ms.</td>\n",
       "      <td>Shawna</td>\n",
       "      <td>W</td>\n",
       "      <td>Buck</td>\n",
       "      <td>F</td>\n",
       "      <td>shawna.buck@gmail.com</td>\n",
       "      <td>Rosario Buck</td>\n",
       "      <td>Keisha Buck</td>\n",
       "      <td>Hendricks</td>\n",
       "      <td>...</td>\n",
       "      <td>222-11-7603</td>\n",
       "      <td>702-771-7149</td>\n",
       "      <td>Las Vegas</td>\n",
       "      <td>Clark</td>\n",
       "      <td>Las Vegas</td>\n",
       "      <td>NV</td>\n",
       "      <td>89128</td>\n",
       "      <td>West</td>\n",
       "      <td>swbuck</td>\n",
       "      <td>ja8?k3BTF^]o@&lt;&amp;</td>\n",
       "    </tr>\n",
       "    <tr>\n",
       "      <th>1</th>\n",
       "      <td>304721</td>\n",
       "      <td>Mr.</td>\n",
       "      <td>Nathaniel</td>\n",
       "      <td>Z</td>\n",
       "      <td>Burke</td>\n",
       "      <td>M</td>\n",
       "      <td>nathaniel.burke@walmart.com</td>\n",
       "      <td>Derrick Burke</td>\n",
       "      <td>Phoebe Burke</td>\n",
       "      <td>Pugh</td>\n",
       "      <td>...</td>\n",
       "      <td>550-99-9897</td>\n",
       "      <td>231-765-6923</td>\n",
       "      <td>Irons</td>\n",
       "      <td>Lake</td>\n",
       "      <td>Irons</td>\n",
       "      <td>MI</td>\n",
       "      <td>49644</td>\n",
       "      <td>Midwest</td>\n",
       "      <td>nzburke</td>\n",
       "      <td>tPA@4Wh9Ja$+Ln</td>\n",
       "    </tr>\n",
       "    <tr>\n",
       "      <th>2</th>\n",
       "      <td>412317</td>\n",
       "      <td>Drs.</td>\n",
       "      <td>Elisabeth</td>\n",
       "      <td>W</td>\n",
       "      <td>Foster</td>\n",
       "      <td>F</td>\n",
       "      <td>elisabeth.foster@gmail.com</td>\n",
       "      <td>Irwin Foster</td>\n",
       "      <td>Janie Foster</td>\n",
       "      <td>Delaney</td>\n",
       "      <td>...</td>\n",
       "      <td>215-91-0004</td>\n",
       "      <td>270-749-4774</td>\n",
       "      <td>Lexington</td>\n",
       "      <td>Fayette</td>\n",
       "      <td>Lexington</td>\n",
       "      <td>KY</td>\n",
       "      <td>40501</td>\n",
       "      <td>South</td>\n",
       "      <td>ewfoster</td>\n",
       "      <td>5D.B4IGNkWJfG&lt;~</td>\n",
       "    </tr>\n",
       "    <tr>\n",
       "      <th>3</th>\n",
       "      <td>621375</td>\n",
       "      <td>Mrs.</td>\n",
       "      <td>Briana</td>\n",
       "      <td>C</td>\n",
       "      <td>Lancaster</td>\n",
       "      <td>F</td>\n",
       "      <td>briana.lancaster@yahoo.com</td>\n",
       "      <td>Jeffrey Lancaster</td>\n",
       "      <td>Shelby Lancaster</td>\n",
       "      <td>Weiss</td>\n",
       "      <td>...</td>\n",
       "      <td>534-71-1053</td>\n",
       "      <td>219-623-8216</td>\n",
       "      <td>Munster</td>\n",
       "      <td>Lake</td>\n",
       "      <td>Munster</td>\n",
       "      <td>IN</td>\n",
       "      <td>46321</td>\n",
       "      <td>Midwest</td>\n",
       "      <td>bclancaster</td>\n",
       "      <td>I%?JDM;pW</td>\n",
       "    </tr>\n",
       "    <tr>\n",
       "      <th>4</th>\n",
       "      <td>787549</td>\n",
       "      <td>Hon.</td>\n",
       "      <td>Estella</td>\n",
       "      <td>L</td>\n",
       "      <td>Potter</td>\n",
       "      <td>F</td>\n",
       "      <td>estella.potter@gmail.com</td>\n",
       "      <td>Booker Potter</td>\n",
       "      <td>Katelyn Potter</td>\n",
       "      <td>Pate</td>\n",
       "      <td>...</td>\n",
       "      <td>644-29-6396</td>\n",
       "      <td>907-677-8486</td>\n",
       "      <td>Fairbanks</td>\n",
       "      <td>Fairbanks North Star</td>\n",
       "      <td>Fairbanks</td>\n",
       "      <td>AK</td>\n",
       "      <td>99709</td>\n",
       "      <td>West</td>\n",
       "      <td>elpotter</td>\n",
       "      <td>j4jkEXfC&amp;Rh</td>\n",
       "    </tr>\n",
       "  </tbody>\n",
       "</table>\n",
       "<p>5 rows × 37 columns</p>\n",
       "</div>"
      ],
      "text/plain": [
       "   Emp ID Name Prefix First Name Middle Initial  Last Name Gender  \\\n",
       "0  850297         Ms.     Shawna              W       Buck      F   \n",
       "1  304721         Mr.  Nathaniel              Z      Burke      M   \n",
       "2  412317        Drs.  Elisabeth              W     Foster      F   \n",
       "3  621375        Mrs.     Briana              C  Lancaster      F   \n",
       "4  787549        Hon.    Estella              L     Potter      F   \n",
       "\n",
       "                        E Mail       Fathers Name      Mothers Name  \\\n",
       "0        shawna.buck@gmail.com       Rosario Buck       Keisha Buck   \n",
       "1  nathaniel.burke@walmart.com      Derrick Burke      Phoebe Burke   \n",
       "2   elisabeth.foster@gmail.com       Irwin Foster      Janie Foster   \n",
       "3   briana.lancaster@yahoo.com  Jeffrey Lancaster  Shelby Lancaster   \n",
       "4     estella.potter@gmail.com      Booker Potter    Katelyn Potter   \n",
       "\n",
       "  Mothers Maiden Name  ...          SSN      Phone No  Place Name  \\\n",
       "0           Hendricks  ...  222-11-7603  702-771-7149   Las Vegas   \n",
       "1                Pugh  ...  550-99-9897  231-765-6923       Irons   \n",
       "2             Delaney  ...  215-91-0004  270-749-4774   Lexington   \n",
       "3               Weiss  ...  534-71-1053  219-623-8216     Munster   \n",
       "4                Pate  ...  644-29-6396  907-677-8486   Fairbanks   \n",
       "\n",
       "                 County       City State    Zip   Region    User Name  \\\n",
       "0                 Clark  Las Vegas    NV  89128     West       swbuck   \n",
       "1                  Lake      Irons    MI  49644  Midwest      nzburke   \n",
       "2               Fayette  Lexington    KY  40501    South     ewfoster   \n",
       "3                  Lake    Munster    IN  46321  Midwest  bclancaster   \n",
       "4  Fairbanks North Star  Fairbanks    AK  99709     West     elpotter   \n",
       "\n",
       "          Password  \n",
       "0  ja8?k3BTF^]o@<&  \n",
       "1   tPA@4Wh9Ja$+Ln  \n",
       "2  5D.B4IGNkWJfG<~  \n",
       "3        I%?JDM;pW  \n",
       "4      j4jkEXfC&Rh  \n",
       "\n",
       "[5 rows x 37 columns]"
      ]
     },
     "execution_count": 2,
     "metadata": {},
     "output_type": "execute_result"
    }
   ],
   "source": [
    "d5=pd.read_csv('salary.csv')\n",
    "d5.head()"
   ]
  },
  {
   "cell_type": "code",
   "execution_count": 3,
   "metadata": {},
   "outputs": [
    {
     "data": {
      "text/plain": [
       "Index(['Emp ID', 'Name Prefix', 'First Name', 'Middle Initial', 'Last Name',\n",
       "       'Gender', 'E Mail', 'Fathers Name', 'Mothers Name',\n",
       "       'Mothers Maiden Name', 'Date of Birth', 'Time of Birth', 'Age in Yrs',\n",
       "       'Weight in Kgs', 'Date of Joining', 'Quarter of Joining',\n",
       "       'Half of Joining', 'Year of Joining', 'Month of Joining',\n",
       "       'Month Name of Joining', 'Short Month', 'Day of Joining',\n",
       "       'DOW of Joining', 'Short DOW', 'Age in Company', 'Salary', 'Last Hike',\n",
       "       'SSN', 'Phone No', 'Place Name', 'County', 'City', 'State', 'Zip',\n",
       "       'Region', 'User Name', 'Password'],\n",
       "      dtype='object')"
      ]
     },
     "execution_count": 3,
     "metadata": {},
     "output_type": "execute_result"
    }
   ],
   "source": [
    "d5.columns"
   ]
  },
  {
   "cell_type": "code",
   "execution_count": 4,
   "metadata": {},
   "outputs": [],
   "source": [
    "d5.drop('Emp ID',axis=1,inplace=True)\n",
    "d5.drop('Name Prefix',axis=1,inplace=True)\n",
    "d5.drop('First Name',axis=1,inplace=True)\n",
    "d5.drop('Middle Initial',axis=1,inplace=True)\n",
    "d5.drop('Last Name',axis=1,inplace=True)\n",
    "d5.drop('E Mail',axis=1,inplace=True)\n",
    "d5.drop('Fathers Name',axis=1,inplace=True)\n",
    "d5.drop('Mothers Name',axis=1,inplace=True)\n",
    "d5.drop('Mothers Maiden Name',axis=1,inplace=True)\n",
    "d5.drop('Date of Birth',axis=1,inplace=True)\n",
    "d5.drop('Time of Birth',axis=1,inplace=True)\n",
    "d5.drop('Weight in Kgs',axis=1,inplace=True)\n",
    "d5.drop('Month Name of Joining',axis=1,inplace=True)\n",
    "d5.drop('Phone No',axis=1,inplace=True)\n",
    "d5.drop('Place Name',axis=1,inplace=True)\n",
    "d5.drop('County',axis=1,inplace=True)  \n",
    "d5.drop('State',axis=1,inplace=True)\n",
    "d5.drop('Zip',axis=1,inplace=True)\n",
    "d5.drop('Region',axis=1,inplace=True)\n",
    "d5.drop('User Name',axis=1,inplace=True)\n",
    "d5.drop('Password',axis=1,inplace=True) \n",
    "d5.drop('SSN',axis=1,inplace=True)\n",
    "d5.drop('Date of Joining',axis=1,inplace=True)\n",
    "d5.drop('Quarter of Joining',axis=1,inplace=True)\n",
    "d5.drop('Half of Joining',axis=1,inplace=True) \n",
    "d5.drop('Short Month',axis=1,inplace=True)\n",
    "d5.drop('Day of Joining',axis=1,inplace=True)\n",
    "d5.drop('DOW of Joining',axis=1,inplace=True)\n",
    "d5.drop('Short DOW',axis=1,inplace=True) "
   ]
  },
  {
   "cell_type": "code",
   "execution_count": 5,
   "metadata": {},
   "outputs": [],
   "source": [
    "d5=d5[['Gender','Age in Yrs','Month of Joining','Year of Joining','Age in Company','City','Last Hike','Salary']]"
   ]
  },
  {
   "cell_type": "code",
   "execution_count": 42,
   "metadata": {},
   "outputs": [
    {
     "ename": "AttributeError",
     "evalue": "Can only use .str accessor with string values!",
     "output_type": "error",
     "traceback": [
      "\u001b[1;31m---------------------------------------------------------------------------\u001b[0m",
      "\u001b[1;31mAttributeError\u001b[0m                            Traceback (most recent call last)",
      "\u001b[1;32m<ipython-input-42-b700f99be840>\u001b[0m in \u001b[0;36m<module>\u001b[1;34m\u001b[0m\n\u001b[1;32m----> 1\u001b[1;33m \u001b[0md5\u001b[0m\u001b[1;33m[\u001b[0m\u001b[1;34m'Last Hike'\u001b[0m\u001b[1;33m]\u001b[0m\u001b[1;33m=\u001b[0m\u001b[1;33m(\u001b[0m\u001b[0md5\u001b[0m\u001b[1;33m[\u001b[0m\u001b[1;34m'Last Hike'\u001b[0m\u001b[1;33m]\u001b[0m\u001b[1;33m.\u001b[0m\u001b[0mstr\u001b[0m\u001b[1;33m.\u001b[0m\u001b[0mstrip\u001b[0m\u001b[1;33m(\u001b[0m\u001b[1;34m'%'\u001b[0m\u001b[1;33m)\u001b[0m\u001b[1;33m.\u001b[0m\u001b[0mastype\u001b[0m\u001b[1;33m(\u001b[0m\u001b[0mint\u001b[0m\u001b[1;33m)\u001b[0m\u001b[1;33m)\u001b[0m\u001b[1;33m\u001b[0m\u001b[1;33m\u001b[0m\u001b[0m\n\u001b[0m",
      "\u001b[1;32m~\\anaconda3\\lib\\site-packages\\pandas\\core\\generic.py\u001b[0m in \u001b[0;36m__getattr__\u001b[1;34m(self, name)\u001b[0m\n\u001b[0;32m   5268\u001b[0m             \u001b[1;32mor\u001b[0m \u001b[0mname\u001b[0m \u001b[1;32min\u001b[0m \u001b[0mself\u001b[0m\u001b[1;33m.\u001b[0m\u001b[0m_accessors\u001b[0m\u001b[1;33m\u001b[0m\u001b[1;33m\u001b[0m\u001b[0m\n\u001b[0;32m   5269\u001b[0m         ):\n\u001b[1;32m-> 5270\u001b[1;33m             \u001b[1;32mreturn\u001b[0m \u001b[0mobject\u001b[0m\u001b[1;33m.\u001b[0m\u001b[0m__getattribute__\u001b[0m\u001b[1;33m(\u001b[0m\u001b[0mself\u001b[0m\u001b[1;33m,\u001b[0m \u001b[0mname\u001b[0m\u001b[1;33m)\u001b[0m\u001b[1;33m\u001b[0m\u001b[1;33m\u001b[0m\u001b[0m\n\u001b[0m\u001b[0;32m   5271\u001b[0m         \u001b[1;32melse\u001b[0m\u001b[1;33m:\u001b[0m\u001b[1;33m\u001b[0m\u001b[1;33m\u001b[0m\u001b[0m\n\u001b[0;32m   5272\u001b[0m             \u001b[1;32mif\u001b[0m \u001b[0mself\u001b[0m\u001b[1;33m.\u001b[0m\u001b[0m_info_axis\u001b[0m\u001b[1;33m.\u001b[0m\u001b[0m_can_hold_identifiers_and_holds_name\u001b[0m\u001b[1;33m(\u001b[0m\u001b[0mname\u001b[0m\u001b[1;33m)\u001b[0m\u001b[1;33m:\u001b[0m\u001b[1;33m\u001b[0m\u001b[1;33m\u001b[0m\u001b[0m\n",
      "\u001b[1;32m~\\anaconda3\\lib\\site-packages\\pandas\\core\\accessor.py\u001b[0m in \u001b[0;36m__get__\u001b[1;34m(self, obj, cls)\u001b[0m\n\u001b[0;32m    185\u001b[0m             \u001b[1;31m# we're accessing the attribute of the class, i.e., Dataset.geo\u001b[0m\u001b[1;33m\u001b[0m\u001b[1;33m\u001b[0m\u001b[1;33m\u001b[0m\u001b[0m\n\u001b[0;32m    186\u001b[0m             \u001b[1;32mreturn\u001b[0m \u001b[0mself\u001b[0m\u001b[1;33m.\u001b[0m\u001b[0m_accessor\u001b[0m\u001b[1;33m\u001b[0m\u001b[1;33m\u001b[0m\u001b[0m\n\u001b[1;32m--> 187\u001b[1;33m         \u001b[0maccessor_obj\u001b[0m \u001b[1;33m=\u001b[0m \u001b[0mself\u001b[0m\u001b[1;33m.\u001b[0m\u001b[0m_accessor\u001b[0m\u001b[1;33m(\u001b[0m\u001b[0mobj\u001b[0m\u001b[1;33m)\u001b[0m\u001b[1;33m\u001b[0m\u001b[1;33m\u001b[0m\u001b[0m\n\u001b[0m\u001b[0;32m    188\u001b[0m         \u001b[1;31m# Replace the property with the accessor object. Inspired by:\u001b[0m\u001b[1;33m\u001b[0m\u001b[1;33m\u001b[0m\u001b[1;33m\u001b[0m\u001b[0m\n\u001b[0;32m    189\u001b[0m         \u001b[1;31m# http://www.pydanny.com/cached-property.html\u001b[0m\u001b[1;33m\u001b[0m\u001b[1;33m\u001b[0m\u001b[1;33m\u001b[0m\u001b[0m\n",
      "\u001b[1;32m~\\anaconda3\\lib\\site-packages\\pandas\\core\\strings.py\u001b[0m in \u001b[0;36m__init__\u001b[1;34m(self, data)\u001b[0m\n\u001b[0;32m   2039\u001b[0m \u001b[1;33m\u001b[0m\u001b[0m\n\u001b[0;32m   2040\u001b[0m     \u001b[1;32mdef\u001b[0m \u001b[0m__init__\u001b[0m\u001b[1;33m(\u001b[0m\u001b[0mself\u001b[0m\u001b[1;33m,\u001b[0m \u001b[0mdata\u001b[0m\u001b[1;33m)\u001b[0m\u001b[1;33m:\u001b[0m\u001b[1;33m\u001b[0m\u001b[1;33m\u001b[0m\u001b[0m\n\u001b[1;32m-> 2041\u001b[1;33m         \u001b[0mself\u001b[0m\u001b[1;33m.\u001b[0m\u001b[0m_inferred_dtype\u001b[0m \u001b[1;33m=\u001b[0m \u001b[0mself\u001b[0m\u001b[1;33m.\u001b[0m\u001b[0m_validate\u001b[0m\u001b[1;33m(\u001b[0m\u001b[0mdata\u001b[0m\u001b[1;33m)\u001b[0m\u001b[1;33m\u001b[0m\u001b[1;33m\u001b[0m\u001b[0m\n\u001b[0m\u001b[0;32m   2042\u001b[0m         \u001b[0mself\u001b[0m\u001b[1;33m.\u001b[0m\u001b[0m_is_categorical\u001b[0m \u001b[1;33m=\u001b[0m \u001b[0mis_categorical_dtype\u001b[0m\u001b[1;33m(\u001b[0m\u001b[0mdata\u001b[0m\u001b[1;33m)\u001b[0m\u001b[1;33m\u001b[0m\u001b[1;33m\u001b[0m\u001b[0m\n\u001b[0;32m   2043\u001b[0m         \u001b[0mself\u001b[0m\u001b[1;33m.\u001b[0m\u001b[0m_is_string\u001b[0m \u001b[1;33m=\u001b[0m \u001b[0mdata\u001b[0m\u001b[1;33m.\u001b[0m\u001b[0mdtype\u001b[0m\u001b[1;33m.\u001b[0m\u001b[0mname\u001b[0m \u001b[1;33m==\u001b[0m \u001b[1;34m\"string\"\u001b[0m\u001b[1;33m\u001b[0m\u001b[1;33m\u001b[0m\u001b[0m\n",
      "\u001b[1;32m~\\anaconda3\\lib\\site-packages\\pandas\\core\\strings.py\u001b[0m in \u001b[0;36m_validate\u001b[1;34m(data)\u001b[0m\n\u001b[0;32m   2096\u001b[0m \u001b[1;33m\u001b[0m\u001b[0m\n\u001b[0;32m   2097\u001b[0m         \u001b[1;32mif\u001b[0m \u001b[0minferred_dtype\u001b[0m \u001b[1;32mnot\u001b[0m \u001b[1;32min\u001b[0m \u001b[0mallowed_types\u001b[0m\u001b[1;33m:\u001b[0m\u001b[1;33m\u001b[0m\u001b[1;33m\u001b[0m\u001b[0m\n\u001b[1;32m-> 2098\u001b[1;33m             \u001b[1;32mraise\u001b[0m \u001b[0mAttributeError\u001b[0m\u001b[1;33m(\u001b[0m\u001b[1;34m\"Can only use .str accessor with string values!\"\u001b[0m\u001b[1;33m)\u001b[0m\u001b[1;33m\u001b[0m\u001b[1;33m\u001b[0m\u001b[0m\n\u001b[0m\u001b[0;32m   2099\u001b[0m         \u001b[1;32mreturn\u001b[0m \u001b[0minferred_dtype\u001b[0m\u001b[1;33m\u001b[0m\u001b[1;33m\u001b[0m\u001b[0m\n\u001b[0;32m   2100\u001b[0m \u001b[1;33m\u001b[0m\u001b[0m\n",
      "\u001b[1;31mAttributeError\u001b[0m: Can only use .str accessor with string values!"
     ]
    }
   ],
   "source": [
    "d5['Last Hike']=(d5['Last Hike'].str.strip('%').astype(int))"
   ]
  },
  {
   "cell_type": "code",
   "execution_count": 6,
   "metadata": {},
   "outputs": [
    {
     "data": {
      "text/html": [
       "<div>\n",
       "<style scoped>\n",
       "    .dataframe tbody tr th:only-of-type {\n",
       "        vertical-align: middle;\n",
       "    }\n",
       "\n",
       "    .dataframe tbody tr th {\n",
       "        vertical-align: top;\n",
       "    }\n",
       "\n",
       "    .dataframe thead th {\n",
       "        text-align: right;\n",
       "    }\n",
       "</style>\n",
       "<table border=\"1\" class=\"dataframe\">\n",
       "  <thead>\n",
       "    <tr style=\"text-align: right;\">\n",
       "      <th></th>\n",
       "      <th>Gender</th>\n",
       "      <th>Age in Yrs</th>\n",
       "      <th>Month of Joining</th>\n",
       "      <th>Year of Joining</th>\n",
       "      <th>Age in Company</th>\n",
       "      <th>City</th>\n",
       "      <th>Last Hike</th>\n",
       "      <th>Salary</th>\n",
       "    </tr>\n",
       "  </thead>\n",
       "  <tbody>\n",
       "    <tr>\n",
       "      <th>0</th>\n",
       "      <td>F</td>\n",
       "      <td>45.66</td>\n",
       "      <td>12</td>\n",
       "      <td>2010</td>\n",
       "      <td>6.61</td>\n",
       "      <td>Las Vegas</td>\n",
       "      <td>17%</td>\n",
       "      <td>119090</td>\n",
       "    </tr>\n",
       "    <tr>\n",
       "      <th>1</th>\n",
       "      <td>M</td>\n",
       "      <td>23.76</td>\n",
       "      <td>4</td>\n",
       "      <td>2017</td>\n",
       "      <td>0.26</td>\n",
       "      <td>Irons</td>\n",
       "      <td>14%</td>\n",
       "      <td>117991</td>\n",
       "    </tr>\n",
       "    <tr>\n",
       "      <th>2</th>\n",
       "      <td>F</td>\n",
       "      <td>22.68</td>\n",
       "      <td>3</td>\n",
       "      <td>2017</td>\n",
       "      <td>0.34</td>\n",
       "      <td>Lexington</td>\n",
       "      <td>28%</td>\n",
       "      <td>161045</td>\n",
       "    </tr>\n",
       "    <tr>\n",
       "      <th>3</th>\n",
       "      <td>F</td>\n",
       "      <td>41.70</td>\n",
       "      <td>2</td>\n",
       "      <td>2003</td>\n",
       "      <td>14.43</td>\n",
       "      <td>Munster</td>\n",
       "      <td>16%</td>\n",
       "      <td>142616</td>\n",
       "    </tr>\n",
       "    <tr>\n",
       "      <th>4</th>\n",
       "      <td>F</td>\n",
       "      <td>22.39</td>\n",
       "      <td>10</td>\n",
       "      <td>2016</td>\n",
       "      <td>0.79</td>\n",
       "      <td>Fairbanks</td>\n",
       "      <td>11%</td>\n",
       "      <td>135706</td>\n",
       "    </tr>\n",
       "  </tbody>\n",
       "</table>\n",
       "</div>"
      ],
      "text/plain": [
       "  Gender  Age in Yrs  Month of Joining  Year of Joining  Age in Company  \\\n",
       "0      F       45.66                12             2010            6.61   \n",
       "1      M       23.76                 4             2017            0.26   \n",
       "2      F       22.68                 3             2017            0.34   \n",
       "3      F       41.70                 2             2003           14.43   \n",
       "4      F       22.39                10             2016            0.79   \n",
       "\n",
       "        City Last Hike  Salary  \n",
       "0  Las Vegas       17%  119090  \n",
       "1      Irons       14%  117991  \n",
       "2  Lexington       28%  161045  \n",
       "3    Munster       16%  142616  \n",
       "4  Fairbanks       11%  135706  "
      ]
     },
     "execution_count": 6,
     "metadata": {},
     "output_type": "execute_result"
    }
   ],
   "source": [
    "d5.head()"
   ]
  },
  {
   "cell_type": "code",
   "execution_count": 7,
   "metadata": {},
   "outputs": [],
   "source": [
    "from sklearn.preprocessing import LabelEncoder\n",
    "le=LabelEncoder()\n",
    "for i in d5.columns:\n",
    "    d5[i]=le.fit_transform(d5[i])"
   ]
  },
  {
   "cell_type": "code",
   "execution_count": 8,
   "metadata": {},
   "outputs": [
    {
     "data": {
      "text/plain": [
       "Gender                2\n",
       "Age in Yrs          889\n",
       "Month of Joining     12\n",
       "Year of Joining      38\n",
       "Age in Company      811\n",
       "City                880\n",
       "Last Hike            31\n",
       "Salary              997\n",
       "dtype: int64"
      ]
     },
     "execution_count": 8,
     "metadata": {},
     "output_type": "execute_result"
    }
   ],
   "source": [
    "d5.nunique()"
   ]
  },
  {
   "cell_type": "code",
   "execution_count": 9,
   "metadata": {},
   "outputs": [
    {
     "data": {
      "text/plain": [
       "Gender              0\n",
       "Age in Yrs          0\n",
       "Month of Joining    0\n",
       "Year of Joining     0\n",
       "Age in Company      0\n",
       "City                0\n",
       "Last Hike           0\n",
       "Salary              0\n",
       "dtype: int64"
      ]
     },
     "execution_count": 9,
     "metadata": {},
     "output_type": "execute_result"
    }
   ],
   "source": [
    "d5.isnull().sum()"
   ]
  },
  {
   "cell_type": "code",
   "execution_count": 10,
   "metadata": {},
   "outputs": [],
   "source": [
    "#there rae no null values"
   ]
  },
  {
   "cell_type": "code",
   "execution_count": 11,
   "metadata": {},
   "outputs": [
    {
     "data": {
      "text/html": [
       "<div>\n",
       "<style scoped>\n",
       "    .dataframe tbody tr th:only-of-type {\n",
       "        vertical-align: middle;\n",
       "    }\n",
       "\n",
       "    .dataframe tbody tr th {\n",
       "        vertical-align: top;\n",
       "    }\n",
       "\n",
       "    .dataframe thead th {\n",
       "        text-align: right;\n",
       "    }\n",
       "</style>\n",
       "<table border=\"1\" class=\"dataframe\">\n",
       "  <thead>\n",
       "    <tr style=\"text-align: right;\">\n",
       "      <th></th>\n",
       "      <th>Gender</th>\n",
       "      <th>Age in Yrs</th>\n",
       "      <th>Month of Joining</th>\n",
       "      <th>Year of Joining</th>\n",
       "      <th>Age in Company</th>\n",
       "      <th>City</th>\n",
       "      <th>Last Hike</th>\n",
       "      <th>Salary</th>\n",
       "    </tr>\n",
       "  </thead>\n",
       "  <tbody>\n",
       "    <tr>\n",
       "      <th>count</th>\n",
       "      <td>1000.000000</td>\n",
       "      <td>1000.000000</td>\n",
       "      <td>1000.000000</td>\n",
       "      <td>1000.000000</td>\n",
       "      <td>1000.000000</td>\n",
       "      <td>1000.000000</td>\n",
       "      <td>1000.000000</td>\n",
       "      <td>1000.000000</td>\n",
       "    </tr>\n",
       "    <tr>\n",
       "      <th>mean</th>\n",
       "      <td>0.509000</td>\n",
       "      <td>445.660000</td>\n",
       "      <td>5.415000</td>\n",
       "      <td>26.992000</td>\n",
       "      <td>375.487000</td>\n",
       "      <td>437.719000</td>\n",
       "      <td>15.007000</td>\n",
       "      <td>498.776000</td>\n",
       "    </tr>\n",
       "    <tr>\n",
       "      <th>std</th>\n",
       "      <td>0.500169</td>\n",
       "      <td>257.936802</td>\n",
       "      <td>3.428488</td>\n",
       "      <td>8.565588</td>\n",
       "      <td>235.030728</td>\n",
       "      <td>252.677922</td>\n",
       "      <td>8.754747</td>\n",
       "      <td>287.924216</td>\n",
       "    </tr>\n",
       "    <tr>\n",
       "      <th>min</th>\n",
       "      <td>0.000000</td>\n",
       "      <td>0.000000</td>\n",
       "      <td>0.000000</td>\n",
       "      <td>0.000000</td>\n",
       "      <td>0.000000</td>\n",
       "      <td>0.000000</td>\n",
       "      <td>0.000000</td>\n",
       "      <td>0.000000</td>\n",
       "    </tr>\n",
       "    <tr>\n",
       "      <th>25%</th>\n",
       "      <td>0.000000</td>\n",
       "      <td>224.750000</td>\n",
       "      <td>3.000000</td>\n",
       "      <td>22.000000</td>\n",
       "      <td>171.750000</td>\n",
       "      <td>215.750000</td>\n",
       "      <td>8.000000</td>\n",
       "      <td>249.750000</td>\n",
       "    </tr>\n",
       "    <tr>\n",
       "      <th>50%</th>\n",
       "      <td>1.000000</td>\n",
       "      <td>445.500000</td>\n",
       "      <td>5.000000</td>\n",
       "      <td>29.000000</td>\n",
       "      <td>360.500000</td>\n",
       "      <td>436.500000</td>\n",
       "      <td>15.000000</td>\n",
       "      <td>499.500000</td>\n",
       "    </tr>\n",
       "    <tr>\n",
       "      <th>75%</th>\n",
       "      <td>1.000000</td>\n",
       "      <td>671.250000</td>\n",
       "      <td>9.000000</td>\n",
       "      <td>34.000000</td>\n",
       "      <td>576.250000</td>\n",
       "      <td>657.250000</td>\n",
       "      <td>22.000000</td>\n",
       "      <td>748.250000</td>\n",
       "    </tr>\n",
       "    <tr>\n",
       "      <th>max</th>\n",
       "      <td>1.000000</td>\n",
       "      <td>888.000000</td>\n",
       "      <td>11.000000</td>\n",
       "      <td>37.000000</td>\n",
       "      <td>810.000000</td>\n",
       "      <td>879.000000</td>\n",
       "      <td>30.000000</td>\n",
       "      <td>996.000000</td>\n",
       "    </tr>\n",
       "  </tbody>\n",
       "</table>\n",
       "</div>"
      ],
      "text/plain": [
       "            Gender   Age in Yrs  Month of Joining  Year of Joining  \\\n",
       "count  1000.000000  1000.000000       1000.000000      1000.000000   \n",
       "mean      0.509000   445.660000          5.415000        26.992000   \n",
       "std       0.500169   257.936802          3.428488         8.565588   \n",
       "min       0.000000     0.000000          0.000000         0.000000   \n",
       "25%       0.000000   224.750000          3.000000        22.000000   \n",
       "50%       1.000000   445.500000          5.000000        29.000000   \n",
       "75%       1.000000   671.250000          9.000000        34.000000   \n",
       "max       1.000000   888.000000         11.000000        37.000000   \n",
       "\n",
       "       Age in Company         City    Last Hike       Salary  \n",
       "count     1000.000000  1000.000000  1000.000000  1000.000000  \n",
       "mean       375.487000   437.719000    15.007000   498.776000  \n",
       "std        235.030728   252.677922     8.754747   287.924216  \n",
       "min          0.000000     0.000000     0.000000     0.000000  \n",
       "25%        171.750000   215.750000     8.000000   249.750000  \n",
       "50%        360.500000   436.500000    15.000000   499.500000  \n",
       "75%        576.250000   657.250000    22.000000   748.250000  \n",
       "max        810.000000   879.000000    30.000000   996.000000  "
      ]
     },
     "execution_count": 11,
     "metadata": {},
     "output_type": "execute_result"
    }
   ],
   "source": [
    "d5.describe()"
   ]
  },
  {
   "cell_type": "code",
   "execution_count": 12,
   "metadata": {},
   "outputs": [],
   "source": [
    "#median is higher than mean for year of joining and salary,so they are left skewed datas\n",
    "#there is a large difference between 75% and max for  age in years,age in company,salary and city.so there are outliers present"
   ]
  },
  {
   "cell_type": "code",
   "execution_count": 13,
   "metadata": {},
   "outputs": [
    {
     "data": {
      "text/plain": [
       "<matplotlib.axes._subplots.AxesSubplot at 0x195d79184c0>"
      ]
     },
     "execution_count": 13,
     "metadata": {},
     "output_type": "execute_result"
    },
    {
     "data": {
      "image/png": "[encoded data removed]",
      "text/plain": [
       "<Figure size 432x288 with 2 Axes>"
      ]
     },
     "metadata": {
      "needs_background": "light"
     },
     "output_type": "display_data"
    }
   ],
   "source": [
    "sns.heatmap(d5.isnull())"
   ]
  },
  {
   "cell_type": "code",
   "execution_count": 14,
   "metadata": {},
   "outputs": [
    {
     "data": {
      "text/plain": [
       "<matplotlib.axes._subplots.AxesSubplot at 0x195d81a4e50>"
      ]
     },
     "execution_count": 14,
     "metadata": {},
     "output_type": "execute_result"
    },
    {
     "data": {
      "image/png": "[encoded data removed]",
      "text/plain": [
       "<Figure size 432x288 with 2 Axes>"
      ]
     },
     "metadata": {
      "needs_background": "light"
     },
     "output_type": "display_data"
    }
   ],
   "source": [
    "d5cor=d5.corr()\n",
    "plt.figure(figsize=(6,4))\n",
    "sns.heatmap(d5cor,cmap='Blues',annot=True)"
   ]
  },
  {
   "cell_type": "code",
   "execution_count": 15,
   "metadata": {},
   "outputs": [],
   "source": [
    "collist=d5.columns.values\n",
    "ncol=22\n",
    "nrows=8"
   ]
  },
  {
   "cell_type": "code",
   "execution_count": 16,
   "metadata": {},
   "outputs": [
    {
     "data": {
      "image/png": "[encoded data removed]",
      "text/plain": [
       "<Figure size 1584x3168 with 4 Axes>"
      ]
     },
     "metadata": {
      "needs_background": "light"
     },
     "output_type": "display_data"
    }
   ],
   "source": [
    "plt.figure(figsize=(ncol,2*ncol))\n",
    "for i in range(4,len(collist)):\n",
    "    plt.subplot(nrows,ncol,i+1)\n",
    "    sns.boxplot(d5[collist[i]],color='green',orient='v')\n",
    "    plt.tight_layout()"
   ]
  },
  {
   "cell_type": "code",
   "execution_count": 17,
   "metadata": {},
   "outputs": [
    {
     "data": {
      "text/plain": [
       "Gender             -0.036060\n",
       "Age in Yrs         -0.008683\n",
       "Month of Joining    0.057287\n",
       "Year of Joining    -0.958797\n",
       "Age in Company      0.138871\n",
       "City                0.012028\n",
       "Last Hike           0.007634\n",
       "Salary             -0.004979\n",
       "dtype: float64"
      ]
     },
     "execution_count": 17,
     "metadata": {},
     "output_type": "execute_result"
    }
   ],
   "source": [
    "d5.skew()"
   ]
  },
  {
   "cell_type": "code",
   "execution_count": 18,
   "metadata": {},
   "outputs": [],
   "source": [
    "for col in d5.columns:\n",
    "    if d5.skew().loc[col]>0.55:\n",
    "        d5[col]=np.log1p(d5[col])"
   ]
  },
  {
   "cell_type": "code",
   "execution_count": 19,
   "metadata": {},
   "outputs": [
    {
     "data": {
      "image/png": "[encoded data removed]",
      "text/plain": [
       "<Figure size 2160x2160 with 3 Axes>"
      ]
     },
     "metadata": {
      "needs_background": "light"
     },
     "output_type": "display_data"
    }
   ],
   "source": [
    "plt.figure(figsize=(30,30))\n",
    "for i in range(5,len(collist)):\n",
    "    plt.subplot(nrows,ncol,i+1)\n",
    "    sns.distplot(d5[collist[i]])"
   ]
  },
  {
   "cell_type": "code",
   "execution_count": 20,
   "metadata": {},
   "outputs": [
    {
     "data": {
      "text/plain": [
       "array([[1.01816496, 0.51332814, 1.62981311, ..., 0.10975581, 0.68648537,\n",
       "        0.00617138],\n",
       "       [0.98215912, 1.50367831, 0.70474461, ..., 0.29981602, 1.02932806,\n",
       "        0.03744524],\n",
       "       [1.01816496, 1.60064978, 0.99656433, ..., 0.05828117, 0.68488543,\n",
       "        0.91119536],\n",
       "       ...,\n",
       "       [1.01816496, 1.70801658, 1.28838405, ..., 1.46220048, 1.02932806,\n",
       "        0.84709089],\n",
       "       [1.01816496, 0.91797067, 0.99656433, ..., 1.26026151, 1.71341353,\n",
       "        1.20152804],\n",
       "       [1.01816496, 1.70413773, 1.58020376, ..., 0.17137491, 1.37057083,\n",
       "        0.30848542]])"
      ]
     },
     "execution_count": 20,
     "metadata": {},
     "output_type": "execute_result"
    }
   ],
   "source": [
    "import numpy as np\n",
    "from scipy.stats import zscore\n",
    "z=np.abs(zscore(d5))\n",
    "z"
   ]
  },
  {
   "cell_type": "code",
   "execution_count": 21,
   "metadata": {},
   "outputs": [
    {
     "name": "stdout",
     "output_type": "stream",
     "text": [
      "(array([594, 606, 621, 684, 895, 999], dtype=int64), array([3, 3, 3, 3, 3, 3], dtype=int64))\n"
     ]
    }
   ],
   "source": [
    "threshold=3\n",
    "print(np.where(z>3))"
   ]
  },
  {
   "cell_type": "code",
   "execution_count": 22,
   "metadata": {},
   "outputs": [
    {
     "name": "stdout",
     "output_type": "stream",
     "text": [
      "(1000, 8)\n",
      "(994, 8)\n"
     ]
    }
   ],
   "source": [
    "d5_new=d5[(z<3).all(axis=1)]\n",
    "print(d5.shape)\n",
    "print(d5_new.shape)"
   ]
  },
  {
   "cell_type": "code",
   "execution_count": 23,
   "metadata": {},
   "outputs": [],
   "source": [
    "# 6 rows are deleted due to presence of outliers"
   ]
  },
  {
   "cell_type": "code",
   "execution_count": 24,
   "metadata": {},
   "outputs": [],
   "source": [
    "from sklearn.linear_model import LinearRegression\n",
    "from sklearn.metrics import mean_squared_error,mean_absolute_error\n",
    "from sklearn.model_selection import train_test_split"
   ]
  },
  {
   "cell_type": "code",
   "execution_count": 25,
   "metadata": {},
   "outputs": [
    {
     "data": {
      "text/html": [
       "<div>\n",
       "<style scoped>\n",
       "    .dataframe tbody tr th:only-of-type {\n",
       "        vertical-align: middle;\n",
       "    }\n",
       "\n",
       "    .dataframe tbody tr th {\n",
       "        vertical-align: top;\n",
       "    }\n",
       "\n",
       "    .dataframe thead th {\n",
       "        text-align: right;\n",
       "    }\n",
       "</style>\n",
       "<table border=\"1\" class=\"dataframe\">\n",
       "  <thead>\n",
       "    <tr style=\"text-align: right;\">\n",
       "      <th></th>\n",
       "      <th>Gender</th>\n",
       "      <th>Age in Yrs</th>\n",
       "      <th>Month of Joining</th>\n",
       "      <th>Year of Joining</th>\n",
       "      <th>Age in Company</th>\n",
       "      <th>City</th>\n",
       "      <th>Last Hike</th>\n",
       "    </tr>\n",
       "  </thead>\n",
       "  <tbody>\n",
       "    <tr>\n",
       "      <th>0</th>\n",
       "      <td>0</td>\n",
       "      <td>578</td>\n",
       "      <td>11</td>\n",
       "      <td>30</td>\n",
       "      <td>317</td>\n",
       "      <td>410</td>\n",
       "      <td>9</td>\n",
       "    </tr>\n",
       "    <tr>\n",
       "      <th>1</th>\n",
       "      <td>1</td>\n",
       "      <td>58</td>\n",
       "      <td>3</td>\n",
       "      <td>37</td>\n",
       "      <td>17</td>\n",
       "      <td>362</td>\n",
       "      <td>6</td>\n",
       "    </tr>\n",
       "    <tr>\n",
       "      <th>2</th>\n",
       "      <td>0</td>\n",
       "      <td>33</td>\n",
       "      <td>2</td>\n",
       "      <td>37</td>\n",
       "      <td>24</td>\n",
       "      <td>423</td>\n",
       "      <td>21</td>\n",
       "    </tr>\n",
       "    <tr>\n",
       "      <th>3</th>\n",
       "      <td>0</td>\n",
       "      <td>475</td>\n",
       "      <td>1</td>\n",
       "      <td>23</td>\n",
       "      <td>551</td>\n",
       "      <td>521</td>\n",
       "      <td>8</td>\n",
       "    </tr>\n",
       "    <tr>\n",
       "      <th>4</th>\n",
       "      <td>0</td>\n",
       "      <td>26</td>\n",
       "      <td>9</td>\n",
       "      <td>36</td>\n",
       "      <td>53</td>\n",
       "      <td>236</td>\n",
       "      <td>3</td>\n",
       "    </tr>\n",
       "    <tr>\n",
       "      <th>...</th>\n",
       "      <td>...</td>\n",
       "      <td>...</td>\n",
       "      <td>...</td>\n",
       "      <td>...</td>\n",
       "      <td>...</td>\n",
       "      <td>...</td>\n",
       "      <td>...</td>\n",
       "    </tr>\n",
       "    <tr>\n",
       "      <th>995</th>\n",
       "      <td>0</td>\n",
       "      <td>254</td>\n",
       "      <td>0</td>\n",
       "      <td>28</td>\n",
       "      <td>416</td>\n",
       "      <td>520</td>\n",
       "      <td>2</td>\n",
       "    </tr>\n",
       "    <tr>\n",
       "      <th>996</th>\n",
       "      <td>1</td>\n",
       "      <td>214</td>\n",
       "      <td>2</td>\n",
       "      <td>30</td>\n",
       "      <td>342</td>\n",
       "      <td>267</td>\n",
       "      <td>8</td>\n",
       "    </tr>\n",
       "    <tr>\n",
       "      <th>997</th>\n",
       "      <td>0</td>\n",
       "      <td>886</td>\n",
       "      <td>1</td>\n",
       "      <td>21</td>\n",
       "      <td>605</td>\n",
       "      <td>807</td>\n",
       "      <td>6</td>\n",
       "    </tr>\n",
       "    <tr>\n",
       "      <th>998</th>\n",
       "      <td>0</td>\n",
       "      <td>209</td>\n",
       "      <td>2</td>\n",
       "      <td>32</td>\n",
       "      <td>274</td>\n",
       "      <td>756</td>\n",
       "      <td>30</td>\n",
       "    </tr>\n",
       "    <tr>\n",
       "      <th>999</th>\n",
       "      <td>0</td>\n",
       "      <td>885</td>\n",
       "      <td>0</td>\n",
       "      <td>0</td>\n",
       "      <td>809</td>\n",
       "      <td>481</td>\n",
       "      <td>27</td>\n",
       "    </tr>\n",
       "  </tbody>\n",
       "</table>\n",
       "<p>1000 rows × 7 columns</p>\n",
       "</div>"
      ],
      "text/plain": [
       "     Gender  Age in Yrs  Month of Joining  Year of Joining  Age in Company  \\\n",
       "0         0         578                11               30             317   \n",
       "1         1          58                 3               37              17   \n",
       "2         0          33                 2               37              24   \n",
       "3         0         475                 1               23             551   \n",
       "4         0          26                 9               36              53   \n",
       "..      ...         ...               ...              ...             ...   \n",
       "995       0         254                 0               28             416   \n",
       "996       1         214                 2               30             342   \n",
       "997       0         886                 1               21             605   \n",
       "998       0         209                 2               32             274   \n",
       "999       0         885                 0                0             809   \n",
       "\n",
       "     City  Last Hike  \n",
       "0     410          9  \n",
       "1     362          6  \n",
       "2     423         21  \n",
       "3     521          8  \n",
       "4     236          3  \n",
       "..    ...        ...  \n",
       "995   520          2  \n",
       "996   267          8  \n",
       "997   807          6  \n",
       "998   756         30  \n",
       "999   481         27  \n",
       "\n",
       "[1000 rows x 7 columns]"
      ]
     },
     "execution_count": 25,
     "metadata": {},
     "output_type": "execute_result"
    }
   ],
   "source": [
    "x=d5.iloc[:,:-1]\n",
    "x"
   ]
  },
  {
   "cell_type": "code",
   "execution_count": 26,
   "metadata": {},
   "outputs": [
    {
     "data": {
      "text/plain": [
       "0      497\n",
       "1      488\n",
       "2      761\n",
       "3      652\n",
       "4      605\n",
       "      ... \n",
       "995    188\n",
       "996    518\n",
       "997    255\n",
       "998    153\n",
       "999    410\n",
       "Name: Salary, Length: 1000, dtype: int64"
      ]
     },
     "execution_count": 26,
     "metadata": {},
     "output_type": "execute_result"
    }
   ],
   "source": [
    "y=d5.iloc[:,-1]\n",
    "y"
   ]
  },
  {
   "cell_type": "code",
   "execution_count": 27,
   "metadata": {},
   "outputs": [
    {
     "data": {
      "text/plain": [
       "array([[-1.01816496,  0.51332814,  1.62981311, ..., -0.24897283,\n",
       "        -0.10975581, -0.68648537],\n",
       "       [ 0.98215912, -1.50367831, -0.70474461, ..., -1.52604036,\n",
       "        -0.29981602, -1.02932806],\n",
       "       [-1.01816496, -1.60064978, -0.99656433, ..., -1.49624212,\n",
       "        -0.05828117,  0.68488543],\n",
       "       ...,\n",
       "       [-1.01816496,  1.70801658, -1.28838405, ...,  0.977012  ,\n",
       "         1.46220048, -1.02932806],\n",
       "       [-1.01816496, -0.91797067, -0.99656433, ..., -0.43201918,\n",
       "         1.26026151,  1.71341353],\n",
       "       [-1.01816496,  1.70413773, -1.58020376, ...,  1.84541793,\n",
       "         0.17137491,  1.37057083]])"
      ]
     },
     "execution_count": 27,
     "metadata": {},
     "output_type": "execute_result"
    }
   ],
   "source": [
    "from sklearn.preprocessing import StandardScaler\n",
    "sc=StandardScaler()\n",
    "x=sc.fit_transform(x)\n",
    "x"
   ]
  },
  {
   "cell_type": "code",
   "execution_count": 28,
   "metadata": {},
   "outputs": [],
   "source": [
    "x_train,x_test,y_train,y_test=train_test_split(x,y,test_size=.22,random_state=42)"
   ]
  },
  {
   "cell_type": "code",
   "execution_count": 29,
   "metadata": {},
   "outputs": [
    {
     "data": {
      "text/plain": [
       "(780, 7)"
      ]
     },
     "execution_count": 29,
     "metadata": {},
     "output_type": "execute_result"
    }
   ],
   "source": [
    "x_train.shape"
   ]
  },
  {
   "cell_type": "code",
   "execution_count": 30,
   "metadata": {},
   "outputs": [
    {
     "data": {
      "text/plain": [
       "(220, 7)"
      ]
     },
     "execution_count": 30,
     "metadata": {},
     "output_type": "execute_result"
    }
   ],
   "source": [
    "x_test.shape"
   ]
  },
  {
   "cell_type": "code",
   "execution_count": 31,
   "metadata": {},
   "outputs": [
    {
     "data": {
      "text/plain": [
       "(780,)"
      ]
     },
     "execution_count": 31,
     "metadata": {},
     "output_type": "execute_result"
    }
   ],
   "source": [
    "y_train.shape"
   ]
  },
  {
   "cell_type": "code",
   "execution_count": 32,
   "metadata": {},
   "outputs": [
    {
     "data": {
      "text/plain": [
       "(220,)"
      ]
     },
     "execution_count": 32,
     "metadata": {},
     "output_type": "execute_result"
    }
   ],
   "source": [
    "y_test.shape"
   ]
  },
  {
   "cell_type": "code",
   "execution_count": 33,
   "metadata": {},
   "outputs": [
    {
     "data": {
      "text/plain": [
       "LinearRegression()"
      ]
     },
     "execution_count": 33,
     "metadata": {},
     "output_type": "execute_result"
    }
   ],
   "source": [
    "lm=LinearRegression()\n",
    "lm.fit(x_train,y_train)"
   ]
  },
  {
   "cell_type": "code",
   "execution_count": 34,
   "metadata": {},
   "outputs": [
    {
     "data": {
      "text/plain": [
       "array([  8.46796673,  -6.70779851,  -8.44774686, -12.87763037,\n",
       "        15.53771526, -21.30126148,  -8.98582742])"
      ]
     },
     "execution_count": 34,
     "metadata": {},
     "output_type": "execute_result"
    }
   ],
   "source": [
    "lm.coef_"
   ]
  },
  {
   "cell_type": "code",
   "execution_count": 35,
   "metadata": {},
   "outputs": [
    {
     "data": {
      "text/plain": [
       "509.67689055771694"
      ]
     },
     "execution_count": 35,
     "metadata": {},
     "output_type": "execute_result"
    }
   ],
   "source": [
    "lm.intercept_"
   ]
  },
  {
   "cell_type": "code",
   "execution_count": 36,
   "metadata": {},
   "outputs": [
    {
     "data": {
      "text/plain": [
       "0.015626869658610265"
      ]
     },
     "execution_count": 36,
     "metadata": {},
     "output_type": "execute_result"
    }
   ],
   "source": [
    "lm.score(x_train,y_train)"
   ]
  },
  {
   "cell_type": "code",
   "execution_count": 37,
   "metadata": {},
   "outputs": [
    {
     "name": "stdout",
     "output_type": "stream",
     "text": [
      "predicted o/p: [519.89242113 467.21024367 542.92999837 493.9879912  533.51675474\n",
      " 459.4036727  547.8043279  492.31025938 519.7593626  486.73572902\n",
      " 558.98132933 521.49808043 501.42207805 462.19325439 479.92698885\n",
      " 562.16509264 476.42340594 493.30913025 452.98458979 522.20502392\n",
      " 483.20623214 501.47481839 489.86938989 435.75363043 505.35075489\n",
      " 523.69178797 446.6960474  488.57873868 541.57411202 507.55967211\n",
      " 484.61375226 560.44756639 591.18880089 536.52518325 553.10281237\n",
      " 466.90271053 506.0178692  492.85862632 558.0607243  526.79825898\n",
      " 475.82601622 527.33188502 457.18661833 451.57006743 475.11537332\n",
      " 518.48015327 521.65469732 513.15125929 519.22925907 542.77114657\n",
      " 465.41765096 483.18515061 494.68683187 505.73792635 462.31278567\n",
      " 506.32383734 553.23709307 508.50609393 489.49762267 541.53892584\n",
      " 523.12348632 556.36034173 529.68351745 472.29951664 465.98757916\n",
      " 521.20470309 474.32516194 461.50970789 555.9512849  566.36596476\n",
      " 564.47304976 511.48887037 535.23144619 451.41300773 511.90412286\n",
      " 475.21593911 494.59134011 535.70518307 520.92350502 474.33101973\n",
      " 493.42711834 532.00213949 527.27853103 476.90106585 520.51422126\n",
      " 492.08138727 459.14433232 459.11919578 516.23516645 500.65057856\n",
      " 533.21557684 501.79100291 510.98080221 548.35063609 517.63868562\n",
      " 543.9091867  551.51778202 490.84276019 481.27097378 498.75061798\n",
      " 529.76876006 521.38049375 538.82935351 530.64176018 550.97649487\n",
      " 541.82444378 482.13050503 529.33100451 483.90352201 497.73895209\n",
      " 523.28254845 522.38311489 479.93650616 501.95841712 581.42803102\n",
      " 534.44708239 467.47928261 476.55457944 495.62522182 542.60646613\n",
      " 464.35354476 464.81825491 494.35521264 548.50007269 527.9481456\n",
      " 529.32006373 519.37255351 537.47860087 451.40962242 528.66641536\n",
      " 546.83102317 529.65706563 449.06625724 526.97148798 453.86468865\n",
      " 517.96007022 477.53216522 524.43448126 556.54293149 553.68307889\n",
      " 517.16497776 510.62861409 530.10822551 497.31836431 473.78606265\n",
      " 545.66808964 502.00158641 514.99076653 546.56801547 500.82121453\n",
      " 498.79706541 517.72892311 471.07258941 498.42250566 520.62601271\n",
      " 508.6098604  544.34683871 475.01578356 472.70522912 551.91237958\n",
      " 461.59394871 552.55164384 534.13777228 472.95214206 449.07196108\n",
      " 527.57931577 491.18185226 457.22997482 475.90552111 489.08675057\n",
      " 520.8666867  521.61937073 551.50627886 506.25854386 509.99707811\n",
      " 480.01914743 512.68976406 552.10139328 579.82145892 526.23646028\n",
      " 529.45445608 495.27395054 486.46347781 596.6516408  524.77575213\n",
      " 512.90824824 503.60033869 479.82151939 454.74739898 448.6885286\n",
      " 487.521767   467.42963528 477.20389069 484.29991141 487.52550714\n",
      " 444.85269038 521.53172448 469.34670401 460.84059017 524.77644541\n",
      " 450.57341866 523.08771696 502.18931779 526.5950994  485.97842884\n",
      " 493.10634014 543.14669377 476.04011139 470.19439171 499.63038907\n",
      " 526.46524161 584.08312409 464.36973588 500.59672759 507.96677837\n",
      " 478.22955525 508.13146889 469.39587491 527.40116951 523.90022591]\n",
      "actual o/p 521    433\n",
      "737    370\n",
      "740    801\n",
      "660    771\n",
      "411    594\n",
      "      ... \n",
      "331    468\n",
      "664    190\n",
      "249    524\n",
      "907    667\n",
      "708    852\n",
      "Name: Salary, Length: 220, dtype: int64\n"
     ]
    }
   ],
   "source": [
    "pred=lm.predict(x_test)\n",
    "print('predicted o/p:',pred)\n",
    "print('actual o/p',y_test)"
   ]
  },
  {
   "cell_type": "code",
   "execution_count": 38,
   "metadata": {},
   "outputs": [
    {
     "name": "stdout",
     "output_type": "stream",
     "text": [
      "error:\n",
      "mean absolute error: 258.6151553658156\n",
      "mean squared error: 88176.79802814237\n",
      "root mean squared error: 296.9457829775368\n"
     ]
    }
   ],
   "source": [
    "print('error:')\n",
    "print('mean absolute error:',mean_absolute_error(y_test,pred))\n",
    "print('mean squared error:',mean_squared_error(y_test,pred))\n",
    "print('root mean squared error:',np.sqrt(mean_squared_error(y_test,pred)))"
   ]
  },
  {
   "cell_type": "code",
   "execution_count": 39,
   "metadata": {},
   "outputs": [
    {
     "name": "stdout",
     "output_type": "stream",
     "text": [
      "-0.04654823215572024\n"
     ]
    }
   ],
   "source": [
    "from sklearn.metrics import r2_score\n",
    "print(r2_score(y_test,pred))"
   ]
  },
  {
   "cell_type": "code",
   "execution_count": null,
   "metadata": {},
   "outputs": [],
   "source": []
  },
  {
   "cell_type": "code",
   "execution_count": 40,
   "metadata": {},
   "outputs": [
    {
     "data": {
      "text/plain": [
       "0.015626869046189706"
      ]
     },
     "execution_count": 40,
     "metadata": {},
     "output_type": "execute_result"
    }
   ],
   "source": [
    "from sklearn .linear_model import Lasso,Ridge\n",
    "ls=Lasso(alpha=.001)\n",
    "ls.fit(x_train,y_train)\n",
    "ls.score(x_train,y_train)"
   ]
  },
  {
   "cell_type": "code",
   "execution_count": 41,
   "metadata": {},
   "outputs": [
    {
     "data": {
      "text/plain": [
       "array([  8.46720968,  -6.70528506,  -8.44704793, -12.90039265,\n",
       "        15.51295841, -21.30058936,  -8.9850255 ])"
      ]
     },
     "execution_count": 41,
     "metadata": {},
     "output_type": "execute_result"
    }
   ],
   "source": [
    "ls.coef_"
   ]
  },
  {
   "cell_type": "code",
   "execution_count": null,
   "metadata": {},
   "outputs": [],
   "source": []
  }
 ],
 "metadata": {
  "kernelspec": {
   "display_name": "Python 3",
   "language": "python",
   "name": "python3"
  },
  "language_info": {
   "codemirror_mode": {
    "name": "ipython",
    "version": 3
   },
   "file_extension": ".py",
   "mimetype": "text/x-python",
   "name": "python",
   "nbconvert_exporter": "python",
   "pygments_lexer": "ipython3",
   "version": "3.8.3"
  }
 },
 "nbformat": 4,
 "nbformat_minor": 4
}
